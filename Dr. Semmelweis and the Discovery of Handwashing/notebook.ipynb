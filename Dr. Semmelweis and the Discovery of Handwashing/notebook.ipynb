{
 "cells": [
  {
   "cell_type": "markdown",
   "metadata": {
    "dc": {
     "key": "13f090f9f0"
    },
    "deletable": false,
    "editable": false,
    "run_control": {
     "frozen": true
    },
    "tags": [
     "context"
    ]
   },
   "source": [
    "## 1. Meet Dr. Ignaz Semmelweis\n",
    "<p><img style=\"float: left;margin:5px 20px 5px 1px\" src=\"https://assets.datacamp.com/production/project_20/img/ignaz_semmelweis_1860.jpeg\"></p>\n",
    "<!--\n",
    "<img style=\"float: left;margin:5px 20px 5px 1px\" src=\"https://assets.datacamp.com/production/project_20/datasets/ignaz_semmelweis_1860.jpeg\">\n",
    "-->\n",
    "<p>This is Dr. Ignaz Semmelweis, a Hungarian physician born in 1818 and active at the Vienna General Hospital. If Dr. Semmelweis looks troubled it's probably because he's thinking about <em>childbed fever</em>: A deadly disease affecting women that just have given birth. He is thinking about it because in the early 1840s at the Vienna General Hospital as many as 10% of the women giving birth die from it. He is thinking about it because he knows the cause of childbed fever: It's the contaminated hands of the doctors delivering the babies. And they won't listen to him and <em>wash their hands</em>!</p>\n",
    "<p>In this notebook, we're going to reanalyze the data that made Semmelweis discover the importance of <em>handwashing</em>. Let's start by looking at the data that made Semmelweis realize that something was wrong with the procedures at Vienna General Hospital.</p>"
   ]
  },
  {
   "cell_type": "code",
   "execution_count": 8,
   "metadata": {
    "ExecuteTime": {
     "end_time": "2019-07-28T15:30:47.633200Z",
     "start_time": "2019-07-28T15:30:47.178061Z"
    },
    "dc": {
     "key": "13f090f9f0"
    },
    "tags": [
     "sample_code"
    ]
   },
   "outputs": [
    {
     "data": {
      "text/html": [
       "<div>\n",
       "<style scoped>\n",
       "    .dataframe tbody tr th:only-of-type {\n",
       "        vertical-align: middle;\n",
       "    }\n",
       "\n",
       "    .dataframe tbody tr th {\n",
       "        vertical-align: top;\n",
       "    }\n",
       "\n",
       "    .dataframe thead th {\n",
       "        text-align: right;\n",
       "    }\n",
       "</style>\n",
       "<table border=\"1\" class=\"dataframe\">\n",
       "  <thead>\n",
       "    <tr style=\"text-align: right;\">\n",
       "      <th></th>\n",
       "      <th>births</th>\n",
       "      <th>deaths</th>\n",
       "    </tr>\n",
       "    <tr>\n",
       "      <th>year</th>\n",
       "      <th></th>\n",
       "      <th></th>\n",
       "    </tr>\n",
       "  </thead>\n",
       "  <tbody>\n",
       "    <tr>\n",
       "      <th>1841</th>\n",
       "      <td>5478</td>\n",
       "      <td>323</td>\n",
       "    </tr>\n",
       "    <tr>\n",
       "      <th>1842</th>\n",
       "      <td>5946</td>\n",
       "      <td>720</td>\n",
       "    </tr>\n",
       "    <tr>\n",
       "      <th>1843</th>\n",
       "      <td>5799</td>\n",
       "      <td>438</td>\n",
       "    </tr>\n",
       "    <tr>\n",
       "      <th>1844</th>\n",
       "      <td>6113</td>\n",
       "      <td>328</td>\n",
       "    </tr>\n",
       "    <tr>\n",
       "      <th>1845</th>\n",
       "      <td>6733</td>\n",
       "      <td>307</td>\n",
       "    </tr>\n",
       "    <tr>\n",
       "      <th>1846</th>\n",
       "      <td>7764</td>\n",
       "      <td>564</td>\n",
       "    </tr>\n",
       "  </tbody>\n",
       "</table>\n",
       "</div>"
      ],
      "text/plain": [
       "      births  deaths\n",
       "year                \n",
       "1841    5478     323\n",
       "1842    5946     720\n",
       "1843    5799     438\n",
       "1844    6113     328\n",
       "1845    6733     307\n",
       "1846    7764     564"
      ]
     },
     "execution_count": 8,
     "metadata": {},
     "output_type": "execute_result"
    }
   ],
   "source": [
    "# importing modules\n",
    "import pandas as pd\n",
    "# ... YOUR CODE FOR TASK 1 ...\n",
    "\n",
    "# Read datasets/yearly_deaths_by_clinic.csv into yearly\n",
    "\n",
    "df = pd.read_csv('datasets/yearly_deaths_by_clinic.csv')\n",
    "df\n",
    "\n",
    "# Print out yearly\n",
    "# ... YOUR CODE FOR TASK 1 ...\n",
    "\n",
    "df_year = df.groupby('year').sum()\n",
    "df_year"
   ]
  },
  {
   "cell_type": "code",
   "execution_count": 51,
   "metadata": {},
   "outputs": [
    {
     "data": {
      "text/html": [
       "        <script type=\"text/javascript\">\n",
       "        window.PlotlyConfig = {MathJaxConfig: 'local'};\n",
       "        if (window.MathJax) {MathJax.Hub.Config({SVG: {font: \"STIX-Web\"}});}\n",
       "        if (typeof require !== 'undefined') {\n",
       "        require.undef(\"plotly\");\n",
       "        requirejs.config({\n",
       "            paths: {\n",
       "                'plotly': ['https://cdn.plot.ly/plotly-latest.min']\n",
       "            }\n",
       "        });\n",
       "        require(['plotly'], function(Plotly) {\n",
       "            window._Plotly = Plotly;\n",
       "        });\n",
       "        }\n",
       "        </script>\n",
       "        "
      ]
     },
     "metadata": {},
     "output_type": "display_data"
    }
   ],
   "source": [
    "import plotly as py\n",
    "import cufflinks as cf\n",
    "\n",
    "cf.go_offline()"
   ]
  },
  {
   "cell_type": "markdown",
   "metadata": {
    "dc": {
     "key": "45ea098e15"
    },
    "deletable": false,
    "editable": false,
    "run_control": {
     "frozen": true
    },
    "tags": [
     "context"
    ]
   },
   "source": [
    "## 2. The alarming number of deaths\n",
    "<p>The table above shows the number of women giving birth at the two clinics at the Vienna General Hospital for the years 1841 to 1846. You'll notice that giving birth was very dangerous; an <em>alarming</em> number of women died as the result of childbirth, most of them from childbed fever.</p>\n",
    "<p>We see this more clearly if we look at the <em>proportion of deaths</em> out of the number of women giving birth. Let's zoom in on the proportion of deaths at Clinic 1.</p>"
   ]
  },
  {
   "cell_type": "code",
   "execution_count": 14,
   "metadata": {
    "ExecuteTime": {
     "end_time": "2019-07-28T15:30:47.638938Z",
     "start_time": "2019-07-28T15:30:47.635578Z"
    },
    "dc": {
     "key": "45ea098e15"
    },
    "tags": [
     "sample_code"
    ]
   },
   "outputs": [
    {
     "name": "stdout",
     "output_type": "stream",
     "text": [
      "   year  births  deaths    clinic  percentage\n",
      "0  1841    3036     237  clinic 1    0.078063\n",
      "1  1842    3287     518  clinic 1    0.157591\n",
      "2  1843    3060     274  clinic 1    0.089542\n",
      "3  1844    3157     260  clinic 1    0.082357\n",
      "4  1845    3492     241  clinic 1    0.069015\n",
      "5  1846    4010     459  clinic 1    0.114464\n",
      "    year  births  deaths    clinic  percentage\n",
      "6   1841    2442      86  clinic 2    0.035217\n",
      "7   1842    2659     202  clinic 2    0.075968\n",
      "8   1843    2739     164  clinic 2    0.059876\n",
      "9   1844    2956      68  clinic 2    0.023004\n",
      "10  1845    3241      66  clinic 2    0.020364\n",
      "11  1846    3754     105  clinic 2    0.027970\n"
     ]
    }
   ],
   "source": [
    "# Calculate proportion of deaths per no. births\n",
    "# ... YOUR CODE FOR TASK 2 ...\n",
    "\n",
    "df['percentage'] = df['deaths']/df['births']\n",
    "df\n",
    "# Extract clinic 1 data into yearly1 and clinic 2 data into yearly2\n",
    "\n",
    "yearly1 = df.loc[df['clinic']=='clinic 1']\n",
    "print(yearly1)\n",
    "\n",
    "yearly2 = df.loc[df['clinic']=='clinic 2']\n",
    "print(yearly2)\n",
    "# Print out yearly1\n",
    "# ... YOUR CODE FOR TASK 2 ...\n"
   ]
  },
  {
   "cell_type": "markdown",
   "metadata": {
    "dc": {
     "key": "2bc9206960"
    },
    "deletable": false,
    "editable": false,
    "run_control": {
     "frozen": true
    },
    "tags": [
     "context"
    ]
   },
   "source": [
    "## 3. Death at the clinics\n",
    "<p>If we now plot the proportion of deaths at both clinic 1 and clinic 2  we'll see a curious pattern...</p>"
   ]
  },
  {
   "cell_type": "code",
   "execution_count": 19,
   "metadata": {
    "ExecuteTime": {
     "end_time": "2019-07-28T15:30:47.644515Z",
     "start_time": "2019-07-28T15:30:47.642185Z"
    },
    "dc": {
     "key": "2bc9206960"
    },
    "tags": [
     "sample_code"
    ]
   },
   "outputs": [
    {
     "data": {
      "image/png": "[encoded data removed]",
      "text/plain": [
       "<Figure size 432x288 with 1 Axes>"
      ]
     },
     "metadata": {
      "needs_background": "light"
     },
     "output_type": "display_data"
    }
   ],
   "source": [
    "# This makes plots appear in the notebook\n",
    "import matplotlib.pyplot as plt\n",
    "%matplotlib inline\n",
    "\n",
    "\n",
    "plt.plot(yearly1['year'],yearly1['percentage'], label='Clinic 1')\n",
    "plt.plot(yearly2['year'],yearly2['percentage'], label='Clinic 2')\n",
    "plt.legend()\n",
    "plt.show()\n",
    "# Plot yearly proportion of deaths at the two clinics\n",
    "# ... YOUR CODE FOR TASK 3 ...\n"
   ]
  },
  {
   "cell_type": "markdown",
   "metadata": {
    "dc": {
     "key": "0c9fdbf550"
    },
    "deletable": false,
    "editable": false,
    "run_control": {
     "frozen": true
    },
    "tags": [
     "context"
    ]
   },
   "source": [
    "## 4. The handwashing begins\n",
    "<p>Why is the proportion of deaths constantly so much higher in Clinic 1? Semmelweis saw the same pattern and was puzzled and distressed. The only difference between the clinics was that many medical students served at Clinic 1, while mostly midwife students served at Clinic 2. While the midwives only tended to the women giving birth, the medical students also spent time in the autopsy rooms examining corpses. </p>\n",
    "<p>Semmelweis started to suspect that something on the corpses, spread from the hands of the medical students, caused childbed fever. So in a desperate attempt to stop the high mortality rates, he decreed: <em>Wash your hands!</em> This was an unorthodox and controversial request, nobody in Vienna knew about bacteria at this point in time. </p>\n",
    "<p>Let's load in monthly data from Clinic 1 to see if the handwashing had any effect.</p>"
   ]
  },
  {
   "cell_type": "code",
   "execution_count": 25,
   "metadata": {
    "ExecuteTime": {
     "end_time": "2019-07-28T15:30:47.650072Z",
     "start_time": "2019-07-28T15:30:47.647498Z"
    },
    "dc": {
     "key": "0c9fdbf550"
    },
    "tags": [
     "sample_code"
    ]
   },
   "outputs": [
    {
     "data": {
      "text/html": [
       "<div>\n",
       "<style scoped>\n",
       "    .dataframe tbody tr th:only-of-type {\n",
       "        vertical-align: middle;\n",
       "    }\n",
       "\n",
       "    .dataframe tbody tr th {\n",
       "        vertical-align: top;\n",
       "    }\n",
       "\n",
       "    .dataframe thead th {\n",
       "        text-align: right;\n",
       "    }\n",
       "</style>\n",
       "<table border=\"1\" class=\"dataframe\">\n",
       "  <thead>\n",
       "    <tr style=\"text-align: right;\">\n",
       "      <th></th>\n",
       "      <th>date</th>\n",
       "      <th>births</th>\n",
       "      <th>deaths</th>\n",
       "      <th>proportion</th>\n",
       "    </tr>\n",
       "  </thead>\n",
       "  <tbody>\n",
       "    <tr>\n",
       "      <th>0</th>\n",
       "      <td>1841-01-01</td>\n",
       "      <td>254</td>\n",
       "      <td>37</td>\n",
       "      <td>0.145669</td>\n",
       "    </tr>\n",
       "    <tr>\n",
       "      <th>1</th>\n",
       "      <td>1841-02-01</td>\n",
       "      <td>239</td>\n",
       "      <td>18</td>\n",
       "      <td>0.075314</td>\n",
       "    </tr>\n",
       "    <tr>\n",
       "      <th>2</th>\n",
       "      <td>1841-03-01</td>\n",
       "      <td>277</td>\n",
       "      <td>12</td>\n",
       "      <td>0.043321</td>\n",
       "    </tr>\n",
       "    <tr>\n",
       "      <th>3</th>\n",
       "      <td>1841-04-01</td>\n",
       "      <td>255</td>\n",
       "      <td>4</td>\n",
       "      <td>0.015686</td>\n",
       "    </tr>\n",
       "    <tr>\n",
       "      <th>4</th>\n",
       "      <td>1841-05-01</td>\n",
       "      <td>255</td>\n",
       "      <td>2</td>\n",
       "      <td>0.007843</td>\n",
       "    </tr>\n",
       "    <tr>\n",
       "      <th>5</th>\n",
       "      <td>1841-06-01</td>\n",
       "      <td>200</td>\n",
       "      <td>10</td>\n",
       "      <td>0.050000</td>\n",
       "    </tr>\n",
       "    <tr>\n",
       "      <th>6</th>\n",
       "      <td>1841-07-01</td>\n",
       "      <td>190</td>\n",
       "      <td>16</td>\n",
       "      <td>0.084211</td>\n",
       "    </tr>\n",
       "    <tr>\n",
       "      <th>7</th>\n",
       "      <td>1841-08-01</td>\n",
       "      <td>222</td>\n",
       "      <td>3</td>\n",
       "      <td>0.013514</td>\n",
       "    </tr>\n",
       "    <tr>\n",
       "      <th>8</th>\n",
       "      <td>1841-09-01</td>\n",
       "      <td>213</td>\n",
       "      <td>4</td>\n",
       "      <td>0.018779</td>\n",
       "    </tr>\n",
       "    <tr>\n",
       "      <th>9</th>\n",
       "      <td>1841-10-01</td>\n",
       "      <td>236</td>\n",
       "      <td>26</td>\n",
       "      <td>0.110169</td>\n",
       "    </tr>\n",
       "    <tr>\n",
       "      <th>10</th>\n",
       "      <td>1841-11-01</td>\n",
       "      <td>235</td>\n",
       "      <td>53</td>\n",
       "      <td>0.225532</td>\n",
       "    </tr>\n",
       "    <tr>\n",
       "      <th>11</th>\n",
       "      <td>1842-01-01</td>\n",
       "      <td>307</td>\n",
       "      <td>64</td>\n",
       "      <td>0.208469</td>\n",
       "    </tr>\n",
       "    <tr>\n",
       "      <th>12</th>\n",
       "      <td>1842-02-01</td>\n",
       "      <td>311</td>\n",
       "      <td>38</td>\n",
       "      <td>0.122186</td>\n",
       "    </tr>\n",
       "    <tr>\n",
       "      <th>13</th>\n",
       "      <td>1842-03-01</td>\n",
       "      <td>264</td>\n",
       "      <td>27</td>\n",
       "      <td>0.102273</td>\n",
       "    </tr>\n",
       "    <tr>\n",
       "      <th>14</th>\n",
       "      <td>1842-04-01</td>\n",
       "      <td>242</td>\n",
       "      <td>26</td>\n",
       "      <td>0.107438</td>\n",
       "    </tr>\n",
       "    <tr>\n",
       "      <th>15</th>\n",
       "      <td>1842-05-01</td>\n",
       "      <td>310</td>\n",
       "      <td>10</td>\n",
       "      <td>0.032258</td>\n",
       "    </tr>\n",
       "    <tr>\n",
       "      <th>16</th>\n",
       "      <td>1842-06-01</td>\n",
       "      <td>273</td>\n",
       "      <td>18</td>\n",
       "      <td>0.065934</td>\n",
       "    </tr>\n",
       "    <tr>\n",
       "      <th>17</th>\n",
       "      <td>1842-07-01</td>\n",
       "      <td>231</td>\n",
       "      <td>48</td>\n",
       "      <td>0.207792</td>\n",
       "    </tr>\n",
       "    <tr>\n",
       "      <th>18</th>\n",
       "      <td>1842-08-01</td>\n",
       "      <td>216</td>\n",
       "      <td>55</td>\n",
       "      <td>0.254630</td>\n",
       "    </tr>\n",
       "    <tr>\n",
       "      <th>19</th>\n",
       "      <td>1842-09-01</td>\n",
       "      <td>223</td>\n",
       "      <td>41</td>\n",
       "      <td>0.183857</td>\n",
       "    </tr>\n",
       "    <tr>\n",
       "      <th>20</th>\n",
       "      <td>1842-10-01</td>\n",
       "      <td>242</td>\n",
       "      <td>71</td>\n",
       "      <td>0.293388</td>\n",
       "    </tr>\n",
       "    <tr>\n",
       "      <th>21</th>\n",
       "      <td>1842-11-01</td>\n",
       "      <td>209</td>\n",
       "      <td>48</td>\n",
       "      <td>0.229665</td>\n",
       "    </tr>\n",
       "    <tr>\n",
       "      <th>22</th>\n",
       "      <td>1842-12-01</td>\n",
       "      <td>239</td>\n",
       "      <td>75</td>\n",
       "      <td>0.313808</td>\n",
       "    </tr>\n",
       "    <tr>\n",
       "      <th>23</th>\n",
       "      <td>1843-01-01</td>\n",
       "      <td>272</td>\n",
       "      <td>52</td>\n",
       "      <td>0.191176</td>\n",
       "    </tr>\n",
       "    <tr>\n",
       "      <th>24</th>\n",
       "      <td>1843-02-01</td>\n",
       "      <td>263</td>\n",
       "      <td>42</td>\n",
       "      <td>0.159696</td>\n",
       "    </tr>\n",
       "    <tr>\n",
       "      <th>25</th>\n",
       "      <td>1843-03-01</td>\n",
       "      <td>266</td>\n",
       "      <td>33</td>\n",
       "      <td>0.124060</td>\n",
       "    </tr>\n",
       "    <tr>\n",
       "      <th>26</th>\n",
       "      <td>1843-04-01</td>\n",
       "      <td>285</td>\n",
       "      <td>34</td>\n",
       "      <td>0.119298</td>\n",
       "    </tr>\n",
       "    <tr>\n",
       "      <th>27</th>\n",
       "      <td>1843-05-01</td>\n",
       "      <td>246</td>\n",
       "      <td>15</td>\n",
       "      <td>0.060976</td>\n",
       "    </tr>\n",
       "    <tr>\n",
       "      <th>28</th>\n",
       "      <td>1843-06-01</td>\n",
       "      <td>196</td>\n",
       "      <td>8</td>\n",
       "      <td>0.040816</td>\n",
       "    </tr>\n",
       "    <tr>\n",
       "      <th>29</th>\n",
       "      <td>1843-07-01</td>\n",
       "      <td>191</td>\n",
       "      <td>1</td>\n",
       "      <td>0.005236</td>\n",
       "    </tr>\n",
       "    <tr>\n",
       "      <th>...</th>\n",
       "      <td>...</td>\n",
       "      <td>...</td>\n",
       "      <td>...</td>\n",
       "      <td>...</td>\n",
       "    </tr>\n",
       "    <tr>\n",
       "      <th>68</th>\n",
       "      <td>1846-10-01</td>\n",
       "      <td>254</td>\n",
       "      <td>38</td>\n",
       "      <td>0.149606</td>\n",
       "    </tr>\n",
       "    <tr>\n",
       "      <th>69</th>\n",
       "      <td>1846-11-01</td>\n",
       "      <td>297</td>\n",
       "      <td>32</td>\n",
       "      <td>0.107744</td>\n",
       "    </tr>\n",
       "    <tr>\n",
       "      <th>70</th>\n",
       "      <td>1846-12-01</td>\n",
       "      <td>298</td>\n",
       "      <td>16</td>\n",
       "      <td>0.053691</td>\n",
       "    </tr>\n",
       "    <tr>\n",
       "      <th>71</th>\n",
       "      <td>1847-01-01</td>\n",
       "      <td>311</td>\n",
       "      <td>10</td>\n",
       "      <td>0.032154</td>\n",
       "    </tr>\n",
       "    <tr>\n",
       "      <th>72</th>\n",
       "      <td>1847-02-01</td>\n",
       "      <td>312</td>\n",
       "      <td>6</td>\n",
       "      <td>0.019231</td>\n",
       "    </tr>\n",
       "    <tr>\n",
       "      <th>73</th>\n",
       "      <td>1847-03-01</td>\n",
       "      <td>305</td>\n",
       "      <td>11</td>\n",
       "      <td>0.036066</td>\n",
       "    </tr>\n",
       "    <tr>\n",
       "      <th>74</th>\n",
       "      <td>1847-04-01</td>\n",
       "      <td>312</td>\n",
       "      <td>57</td>\n",
       "      <td>0.182692</td>\n",
       "    </tr>\n",
       "    <tr>\n",
       "      <th>75</th>\n",
       "      <td>1847-05-01</td>\n",
       "      <td>294</td>\n",
       "      <td>36</td>\n",
       "      <td>0.122449</td>\n",
       "    </tr>\n",
       "    <tr>\n",
       "      <th>76</th>\n",
       "      <td>1847-06-01</td>\n",
       "      <td>268</td>\n",
       "      <td>6</td>\n",
       "      <td>0.022388</td>\n",
       "    </tr>\n",
       "    <tr>\n",
       "      <th>77</th>\n",
       "      <td>1847-07-01</td>\n",
       "      <td>250</td>\n",
       "      <td>3</td>\n",
       "      <td>0.012000</td>\n",
       "    </tr>\n",
       "    <tr>\n",
       "      <th>78</th>\n",
       "      <td>1847-08-01</td>\n",
       "      <td>264</td>\n",
       "      <td>5</td>\n",
       "      <td>0.018939</td>\n",
       "    </tr>\n",
       "    <tr>\n",
       "      <th>79</th>\n",
       "      <td>1847-09-01</td>\n",
       "      <td>262</td>\n",
       "      <td>12</td>\n",
       "      <td>0.045802</td>\n",
       "    </tr>\n",
       "    <tr>\n",
       "      <th>80</th>\n",
       "      <td>1847-10-01</td>\n",
       "      <td>278</td>\n",
       "      <td>11</td>\n",
       "      <td>0.039568</td>\n",
       "    </tr>\n",
       "    <tr>\n",
       "      <th>81</th>\n",
       "      <td>1847-11-01</td>\n",
       "      <td>246</td>\n",
       "      <td>11</td>\n",
       "      <td>0.044715</td>\n",
       "    </tr>\n",
       "    <tr>\n",
       "      <th>82</th>\n",
       "      <td>1847-12-01</td>\n",
       "      <td>273</td>\n",
       "      <td>8</td>\n",
       "      <td>0.029304</td>\n",
       "    </tr>\n",
       "    <tr>\n",
       "      <th>83</th>\n",
       "      <td>1848-01-01</td>\n",
       "      <td>283</td>\n",
       "      <td>10</td>\n",
       "      <td>0.035336</td>\n",
       "    </tr>\n",
       "    <tr>\n",
       "      <th>84</th>\n",
       "      <td>1848-02-01</td>\n",
       "      <td>291</td>\n",
       "      <td>2</td>\n",
       "      <td>0.006873</td>\n",
       "    </tr>\n",
       "    <tr>\n",
       "      <th>85</th>\n",
       "      <td>1848-03-01</td>\n",
       "      <td>276</td>\n",
       "      <td>0</td>\n",
       "      <td>0.000000</td>\n",
       "    </tr>\n",
       "    <tr>\n",
       "      <th>86</th>\n",
       "      <td>1848-04-01</td>\n",
       "      <td>305</td>\n",
       "      <td>2</td>\n",
       "      <td>0.006557</td>\n",
       "    </tr>\n",
       "    <tr>\n",
       "      <th>87</th>\n",
       "      <td>1848-05-01</td>\n",
       "      <td>313</td>\n",
       "      <td>3</td>\n",
       "      <td>0.009585</td>\n",
       "    </tr>\n",
       "    <tr>\n",
       "      <th>88</th>\n",
       "      <td>1848-06-01</td>\n",
       "      <td>264</td>\n",
       "      <td>3</td>\n",
       "      <td>0.011364</td>\n",
       "    </tr>\n",
       "    <tr>\n",
       "      <th>89</th>\n",
       "      <td>1848-07-01</td>\n",
       "      <td>269</td>\n",
       "      <td>1</td>\n",
       "      <td>0.003717</td>\n",
       "    </tr>\n",
       "    <tr>\n",
       "      <th>90</th>\n",
       "      <td>1848-08-01</td>\n",
       "      <td>261</td>\n",
       "      <td>0</td>\n",
       "      <td>0.000000</td>\n",
       "    </tr>\n",
       "    <tr>\n",
       "      <th>91</th>\n",
       "      <td>1848-09-01</td>\n",
       "      <td>312</td>\n",
       "      <td>3</td>\n",
       "      <td>0.009615</td>\n",
       "    </tr>\n",
       "    <tr>\n",
       "      <th>92</th>\n",
       "      <td>1848-10-01</td>\n",
       "      <td>299</td>\n",
       "      <td>7</td>\n",
       "      <td>0.023411</td>\n",
       "    </tr>\n",
       "    <tr>\n",
       "      <th>93</th>\n",
       "      <td>1848-11-01</td>\n",
       "      <td>310</td>\n",
       "      <td>9</td>\n",
       "      <td>0.029032</td>\n",
       "    </tr>\n",
       "    <tr>\n",
       "      <th>94</th>\n",
       "      <td>1848-12-01</td>\n",
       "      <td>373</td>\n",
       "      <td>5</td>\n",
       "      <td>0.013405</td>\n",
       "    </tr>\n",
       "    <tr>\n",
       "      <th>95</th>\n",
       "      <td>1849-01-01</td>\n",
       "      <td>403</td>\n",
       "      <td>9</td>\n",
       "      <td>0.022333</td>\n",
       "    </tr>\n",
       "    <tr>\n",
       "      <th>96</th>\n",
       "      <td>1849-02-01</td>\n",
       "      <td>389</td>\n",
       "      <td>12</td>\n",
       "      <td>0.030848</td>\n",
       "    </tr>\n",
       "    <tr>\n",
       "      <th>97</th>\n",
       "      <td>1849-03-01</td>\n",
       "      <td>406</td>\n",
       "      <td>20</td>\n",
       "      <td>0.049261</td>\n",
       "    </tr>\n",
       "  </tbody>\n",
       "</table>\n",
       "<p>98 rows × 4 columns</p>\n",
       "</div>"
      ],
      "text/plain": [
       "          date  births  deaths  proportion\n",
       "0   1841-01-01     254      37    0.145669\n",
       "1   1841-02-01     239      18    0.075314\n",
       "2   1841-03-01     277      12    0.043321\n",
       "3   1841-04-01     255       4    0.015686\n",
       "4   1841-05-01     255       2    0.007843\n",
       "5   1841-06-01     200      10    0.050000\n",
       "6   1841-07-01     190      16    0.084211\n",
       "7   1841-08-01     222       3    0.013514\n",
       "8   1841-09-01     213       4    0.018779\n",
       "9   1841-10-01     236      26    0.110169\n",
       "10  1841-11-01     235      53    0.225532\n",
       "11  1842-01-01     307      64    0.208469\n",
       "12  1842-02-01     311      38    0.122186\n",
       "13  1842-03-01     264      27    0.102273\n",
       "14  1842-04-01     242      26    0.107438\n",
       "15  1842-05-01     310      10    0.032258\n",
       "16  1842-06-01     273      18    0.065934\n",
       "17  1842-07-01     231      48    0.207792\n",
       "18  1842-08-01     216      55    0.254630\n",
       "19  1842-09-01     223      41    0.183857\n",
       "20  1842-10-01     242      71    0.293388\n",
       "21  1842-11-01     209      48    0.229665\n",
       "22  1842-12-01     239      75    0.313808\n",
       "23  1843-01-01     272      52    0.191176\n",
       "24  1843-02-01     263      42    0.159696\n",
       "25  1843-03-01     266      33    0.124060\n",
       "26  1843-04-01     285      34    0.119298\n",
       "27  1843-05-01     246      15    0.060976\n",
       "28  1843-06-01     196       8    0.040816\n",
       "29  1843-07-01     191       1    0.005236\n",
       "..         ...     ...     ...         ...\n",
       "68  1846-10-01     254      38    0.149606\n",
       "69  1846-11-01     297      32    0.107744\n",
       "70  1846-12-01     298      16    0.053691\n",
       "71  1847-01-01     311      10    0.032154\n",
       "72  1847-02-01     312       6    0.019231\n",
       "73  1847-03-01     305      11    0.036066\n",
       "74  1847-04-01     312      57    0.182692\n",
       "75  1847-05-01     294      36    0.122449\n",
       "76  1847-06-01     268       6    0.022388\n",
       "77  1847-07-01     250       3    0.012000\n",
       "78  1847-08-01     264       5    0.018939\n",
       "79  1847-09-01     262      12    0.045802\n",
       "80  1847-10-01     278      11    0.039568\n",
       "81  1847-11-01     246      11    0.044715\n",
       "82  1847-12-01     273       8    0.029304\n",
       "83  1848-01-01     283      10    0.035336\n",
       "84  1848-02-01     291       2    0.006873\n",
       "85  1848-03-01     276       0    0.000000\n",
       "86  1848-04-01     305       2    0.006557\n",
       "87  1848-05-01     313       3    0.009585\n",
       "88  1848-06-01     264       3    0.011364\n",
       "89  1848-07-01     269       1    0.003717\n",
       "90  1848-08-01     261       0    0.000000\n",
       "91  1848-09-01     312       3    0.009615\n",
       "92  1848-10-01     299       7    0.023411\n",
       "93  1848-11-01     310       9    0.029032\n",
       "94  1848-12-01     373       5    0.013405\n",
       "95  1849-01-01     403       9    0.022333\n",
       "96  1849-02-01     389      12    0.030848\n",
       "97  1849-03-01     406      20    0.049261\n",
       "\n",
       "[98 rows x 4 columns]"
      ]
     },
     "execution_count": 25,
     "metadata": {},
     "output_type": "execute_result"
    }
   ],
   "source": [
    "# Read datasets/monthly_deaths.csv into monthly\n",
    "\n",
    "monthly = pd.read_csv('datasets/monthly_deaths.csv')\n",
    "monthly\n",
    "# Calculate proportion of deaths per no. births\n",
    "# ... YOUR CODE FOR TASK 4 ...\n",
    "\n",
    "monthly['proportion'] = monthly['deaths']/monthly['births']\n",
    "monthly\n",
    "\n",
    "\n",
    "# Print out the first rows in monthly\n",
    "# ... YOUR CODE FOR TASK 4 ...\n"
   ]
  },
  {
   "cell_type": "markdown",
   "metadata": {
    "dc": {
     "key": "2da2a84119"
    },
    "deletable": false,
    "editable": false,
    "run_control": {
     "frozen": true
    },
    "tags": [
     "context"
    ]
   },
   "source": [
    "## 5. The effect of handwashing\n",
    "<p>With the data loaded we can now look at the proportion of deaths over time. In the plot below we haven't marked where obligatory handwashing started, but it reduced the proportion of deaths to such a degree that you should be able to spot it!</p>"
   ]
  },
  {
   "cell_type": "code",
   "execution_count": 30,
   "metadata": {
    "ExecuteTime": {
     "end_time": "2019-07-28T15:30:47.654964Z",
     "start_time": "2019-07-28T15:30:47.652200Z"
    },
    "dc": {
     "key": "2da2a84119"
    },
    "tags": [
     "sample_code"
    ]
   },
   "outputs": [
    {
     "data": {
      "image/png": "[encoded data removed]",
      "text/plain": [
       "<Figure size 432x288 with 1 Axes>"
      ]
     },
     "metadata": {
      "needs_background": "light"
     },
     "output_type": "display_data"
    }
   ],
   "source": [
    "# Plot monthly proportion of deaths\n",
    "# ... YOUR CODE FOR TASK 5 ...\n",
    "\n",
    "plt.plot(monthly['date'],monthly['proportion'])\n",
    "plt.xticks(rotation=90)\n",
    "plt.show()\n"
   ]
  },
  {
   "cell_type": "code",
   "execution_count": 56,
   "metadata": {},
   "outputs": [
    {
     "data": {
      "application/vnd.plotly.v1+json": {
       "config": {
        "linkText": "Export to plot.ly",
        "plotlyServerURL": "https://plot.ly",
        "showLink": true
       },
       "data": [
        {
         "line": {
          "color": "rgba(55, 128, 191, 1.0)",
          "dash": "solid",
          "shape": "linear",
          "width": 1.3
         },
         "mode": "lines",
         "name": "proportion",
         "text": "",
         "type": "scatter",
         "uid": "20fb3431-defa-429b-9b54-2535c9743948",
         "x": [
          "1841-01-01",
          "1841-02-01",
          "1841-03-01",
          "1841-04-01",
          "1841-05-01",
          "1841-06-01",
          "1841-07-01",
          "1841-08-01",
          "1841-09-01",
          "1841-10-01",
          "1841-11-01",
          "1842-01-01",
          "1842-02-01",
          "1842-03-01",
          "1842-04-01",
          "1842-05-01",
          "1842-06-01",
          "1842-07-01",
          "1842-08-01",
          "1842-09-01",
          "1842-10-01",
          "1842-11-01",
          "1842-12-01",
          "1843-01-01",
          "1843-02-01",
          "1843-03-01",
          "1843-04-01",
          "1843-05-01",
          "1843-06-01",
          "1843-07-01",
          "1843-08-01",
          "1843-09-01",
          "1843-10-01",
          "1843-11-01",
          "1843-12-01",
          "1844-01-01",
          "1844-02-01",
          "1844-03-01",
          "1844-04-01",
          "1844-05-01",
          "1844-06-01",
          "1844-07-01",
          "1844-08-01",
          "1844-09-01",
          "1844-10-01",
          "1844-11-01",
          "1844-12-01",
          "1845-01-01",
          "1845-02-01",
          "1845-03-01",
          "1845-04-01",
          "1845-05-01",
          "1845-06-01",
          "1845-07-01",
          "1845-08-01",
          "1845-09-01",
          "1845-10-01",
          "1845-11-01",
          "1845-12-01",
          "1846-01-01",
          "1846-02-01",
          "1846-03-01",
          "1846-04-01",
          "1846-05-01",
          "1846-06-01",
          "1846-07-01",
          "1846-08-01",
          "1846-09-01",
          "1846-10-01",
          "1846-11-01",
          "1846-12-01",
          "1847-01-01",
          "1847-02-01",
          "1847-03-01",
          "1847-04-01",
          "1847-05-01",
          "1847-06-01",
          "1847-07-01",
          "1847-08-01",
          "1847-09-01",
          "1847-10-01",
          "1847-11-01",
          "1847-12-01",
          "1848-01-01",
          "1848-02-01",
          "1848-03-01",
          "1848-04-01",
          "1848-05-01",
          "1848-06-01",
          "1848-07-01",
          "1848-08-01",
          "1848-09-01",
          "1848-10-01",
          "1848-11-01",
          "1848-12-01",
          "1849-01-01",
          "1849-02-01",
          "1849-03-01"
         ],
         "y": [
          0.14566929133858267,
          0.07531380753138076,
          0.04332129963898917,
          0.01568627450980392,
          0.00784313725490196,
          0.05,
          0.08421052631578947,
          0.013513513513513514,
          0.018779342723004695,
          0.11016949152542373,
          0.225531914893617,
          0.20846905537459284,
          0.12218649517684887,
          0.10227272727272728,
          0.10743801652892562,
          0.03225806451612903,
          0.06593406593406594,
          0.2077922077922078,
          0.25462962962962965,
          0.18385650224215247,
          0.29338842975206614,
          0.22966507177033493,
          0.3138075313807531,
          0.19117647058823528,
          0.1596958174904943,
          0.12406015037593984,
          0.11929824561403508,
          0.06097560975609756,
          0.04081632653061224,
          0.005235602094240838,
          0.015544041450777202,
          0.02262443438914027,
          0.176,
          0.07142857142857142,
          0.08050847457627118,
          0.15163934426229508,
          0.11284046692607004,
          0.17028985507246377,
          0.17307692307692307,
          0.058333333333333334,
          0.026785714285714284,
          0.043689320388349516,
          0.06319702602230483,
          0.012244897959183673,
          0.03225806451612903,
          0.11020408163265306,
          0.10546875,
          0.07590759075907591,
          0.04744525547445255,
          0.04452054794520548,
          0.04230769230769231,
          0.04391891891891892,
          0.07142857142857142,
          0.061224489795918366,
          0.035856573705179286,
          0.10548523206751055,
          0.14840989399293286,
          0.10943396226415095,
          0.10486891385767791,
          0.13392857142857142,
          0.18088737201365188,
          0.15434083601286175,
          0.18972332015810275,
          0.13442622950819672,
          0.10150375939849623,
          0.13095238095238096,
          0.18055555555555555,
          0.14391143911439114,
          0.14960629921259844,
          0.10774410774410774,
          0.053691275167785234,
          0.03215434083601286,
          0.019230769230769232,
          0.036065573770491806,
          0.18269230769230768,
          0.12244897959183673,
          0.022388059701492536,
          0.012,
          0.01893939393939394,
          0.04580152671755725,
          0.039568345323741004,
          0.044715447154471545,
          0.029304029304029304,
          0.0353356890459364,
          0.006872852233676976,
          0,
          0.006557377049180328,
          0.009584664536741214,
          0.011363636363636364,
          0.0037174721189591076,
          0,
          0.009615384615384616,
          0.023411371237458192,
          0.02903225806451613,
          0.013404825737265416,
          0.022332506203473945,
          0.030848329048843187,
          0.04926108374384237
         ]
        }
       ],
       "layout": {
        "legend": {
         "bgcolor": "#F5F6F9",
         "font": {
          "color": "#4D5663"
         }
        },
        "paper_bgcolor": "#F5F6F9",
        "plot_bgcolor": "#F5F6F9",
        "title": {
         "font": {
          "color": "#4D5663"
         },
         "text": "Death Rate per Month"
        },
        "xaxis": {
         "gridcolor": "#E1E5ED",
         "showgrid": true,
         "tickfont": {
          "color": "#4D5663"
         },
         "title": {
          "font": {
           "color": "#4D5663"
          },
          "text": "Year"
         },
         "zerolinecolor": "#E1E5ED"
        },
        "yaxis": {
         "gridcolor": "#E1E5ED",
         "showgrid": true,
         "tickfont": {
          "color": "#4D5663"
         },
         "title": {
          "font": {
           "color": "#4D5663"
          },
          "text": "Death Rate"
         },
         "zerolinecolor": "#E1E5ED"
        }
       }
      },
      "text/html": [
       "<div>\n",
       "        \n",
       "        \n",
       "            <div id=\"639759d1-7c78-4298-8e4a-dccb7765391a\" class=\"plotly-graph-div\" style=\"height:525px; width:100%;\"></div>\n",
       "            <script type=\"text/javascript\">\n",
       "                require([\"plotly\"], function(Plotly) {\n",
       "                    window.PLOTLYENV=window.PLOTLYENV || {};\n",
       "                    window.PLOTLYENV.BASE_URL='https://plot.ly';\n",
       "                    \n",
       "                if (document.getElementById(\"639759d1-7c78-4298-8e4a-dccb7765391a\")) {\n",
       "                    Plotly.newPlot(\n",
       "                        '639759d1-7c78-4298-8e4a-dccb7765391a',\n",
       "                        [{\"line\": {\"color\": \"rgba(55, 128, 191, 1.0)\", \"dash\": \"solid\", \"shape\": \"linear\", \"width\": 1.3}, \"mode\": \"lines\", \"name\": \"proportion\", \"text\": \"\", \"type\": \"scatter\", \"uid\": \"20fb3431-defa-429b-9b54-2535c9743948\", \"x\": [\"1841-01-01\", \"1841-02-01\", \"1841-03-01\", \"1841-04-01\", \"1841-05-01\", \"1841-06-01\", \"1841-07-01\", \"1841-08-01\", \"1841-09-01\", \"1841-10-01\", \"1841-11-01\", \"1842-01-01\", \"1842-02-01\", \"1842-03-01\", \"1842-04-01\", \"1842-05-01\", \"1842-06-01\", \"1842-07-01\", \"1842-08-01\", \"1842-09-01\", \"1842-10-01\", \"1842-11-01\", \"1842-12-01\", \"1843-01-01\", \"1843-02-01\", \"1843-03-01\", \"1843-04-01\", \"1843-05-01\", \"1843-06-01\", \"1843-07-01\", \"1843-08-01\", \"1843-09-01\", \"1843-10-01\", \"1843-11-01\", \"1843-12-01\", \"1844-01-01\", \"1844-02-01\", \"1844-03-01\", \"1844-04-01\", \"1844-05-01\", \"1844-06-01\", \"1844-07-01\", \"1844-08-01\", \"1844-09-01\", \"1844-10-01\", \"1844-11-01\", \"1844-12-01\", \"1845-01-01\", \"1845-02-01\", \"1845-03-01\", \"1845-04-01\", \"1845-05-01\", \"1845-06-01\", \"1845-07-01\", \"1845-08-01\", \"1845-09-01\", \"1845-10-01\", \"1845-11-01\", \"1845-12-01\", \"1846-01-01\", \"1846-02-01\", \"1846-03-01\", \"1846-04-01\", \"1846-05-01\", \"1846-06-01\", \"1846-07-01\", \"1846-08-01\", \"1846-09-01\", \"1846-10-01\", \"1846-11-01\", \"1846-12-01\", \"1847-01-01\", \"1847-02-01\", \"1847-03-01\", \"1847-04-01\", \"1847-05-01\", \"1847-06-01\", \"1847-07-01\", \"1847-08-01\", \"1847-09-01\", \"1847-10-01\", \"1847-11-01\", \"1847-12-01\", \"1848-01-01\", \"1848-02-01\", \"1848-03-01\", \"1848-04-01\", \"1848-05-01\", \"1848-06-01\", \"1848-07-01\", \"1848-08-01\", \"1848-09-01\", \"1848-10-01\", \"1848-11-01\", \"1848-12-01\", \"1849-01-01\", \"1849-02-01\", \"1849-03-01\"], \"y\": [0.14566929133858267, 0.07531380753138076, 0.04332129963898917, 0.01568627450980392, 0.00784313725490196, 0.05, 0.08421052631578947, 0.013513513513513514, 0.018779342723004695, 0.11016949152542373, 0.225531914893617, 0.20846905537459284, 0.12218649517684887, 0.10227272727272728, 0.10743801652892562, 0.03225806451612903, 0.06593406593406594, 0.2077922077922078, 0.25462962962962965, 0.18385650224215247, 0.29338842975206614, 0.22966507177033493, 0.3138075313807531, 0.19117647058823528, 0.1596958174904943, 0.12406015037593984, 0.11929824561403508, 0.06097560975609756, 0.04081632653061224, 0.005235602094240838, 0.015544041450777202, 0.02262443438914027, 0.176, 0.07142857142857142, 0.08050847457627118, 0.15163934426229508, 0.11284046692607004, 0.17028985507246377, 0.17307692307692307, 0.058333333333333334, 0.026785714285714284, 0.043689320388349516, 0.06319702602230483, 0.012244897959183673, 0.03225806451612903, 0.11020408163265306, 0.10546875, 0.07590759075907591, 0.04744525547445255, 0.04452054794520548, 0.04230769230769231, 0.04391891891891892, 0.07142857142857142, 0.061224489795918366, 0.035856573705179286, 0.10548523206751055, 0.14840989399293286, 0.10943396226415095, 0.10486891385767791, 0.13392857142857142, 0.18088737201365188, 0.15434083601286175, 0.18972332015810275, 0.13442622950819672, 0.10150375939849623, 0.13095238095238096, 0.18055555555555555, 0.14391143911439114, 0.14960629921259844, 0.10774410774410774, 0.053691275167785234, 0.03215434083601286, 0.019230769230769232, 0.036065573770491806, 0.18269230769230768, 0.12244897959183673, 0.022388059701492536, 0.012, 0.01893939393939394, 0.04580152671755725, 0.039568345323741004, 0.044715447154471545, 0.029304029304029304, 0.0353356890459364, 0.006872852233676976, 0.0, 0.006557377049180328, 0.009584664536741214, 0.011363636363636364, 0.0037174721189591076, 0.0, 0.009615384615384616, 0.023411371237458192, 0.02903225806451613, 0.013404825737265416, 0.022332506203473945, 0.030848329048843187, 0.04926108374384237]}],\n",
       "                        {\"legend\": {\"bgcolor\": \"#F5F6F9\", \"font\": {\"color\": \"#4D5663\"}}, \"paper_bgcolor\": \"#F5F6F9\", \"plot_bgcolor\": \"#F5F6F9\", \"title\": {\"font\": {\"color\": \"#4D5663\"}, \"text\": \"Death Rate per Month\"}, \"xaxis\": {\"gridcolor\": \"#E1E5ED\", \"showgrid\": true, \"tickfont\": {\"color\": \"#4D5663\"}, \"title\": {\"font\": {\"color\": \"#4D5663\"}, \"text\": \"Year\"}, \"zerolinecolor\": \"#E1E5ED\"}, \"yaxis\": {\"gridcolor\": \"#E1E5ED\", \"showgrid\": true, \"tickfont\": {\"color\": \"#4D5663\"}, \"title\": {\"font\": {\"color\": \"#4D5663\"}, \"text\": \"Death Rate\"}, \"zerolinecolor\": \"#E1E5ED\"}},\n",
       "                        {\"showLink\": true, \"linkText\": \"Export to plot.ly\", \"plotlyServerURL\": \"https://plot.ly\", \"responsive\": true}\n",
       "                    ).then(function(){\n",
       "                            \n",
       "var gd = document.getElementById('639759d1-7c78-4298-8e4a-dccb7765391a');\n",
       "var x = new MutationObserver(function (mutations, observer) {{\n",
       "        var display = window.getComputedStyle(gd).display;\n",
       "        if (!display || display === 'none') {{\n",
       "            console.log([gd, 'removed!']);\n",
       "            Plotly.purge(gd);\n",
       "            observer.disconnect();\n",
       "        }}\n",
       "}});\n",
       "\n",
       "// Listen for the removal of the full notebook cells\n",
       "var notebookContainer = gd.closest('#notebook-container');\n",
       "if (notebookContainer) {{\n",
       "    x.observe(notebookContainer, {childList: true});\n",
       "}}\n",
       "\n",
       "// Listen for the clearing of the current output cell\n",
       "var outputEl = gd.closest('.output');\n",
       "if (outputEl) {{\n",
       "    x.observe(outputEl, {childList: true});\n",
       "}}\n",
       "\n",
       "                        })\n",
       "                };\n",
       "                });\n",
       "            </script>\n",
       "        </div>"
      ]
     },
     "metadata": {},
     "output_type": "display_data"
    }
   ],
   "source": [
    "monthly.iplot(kind='line', x='date', y='proportion', xTitle='Year', color='blue',\n",
    "           yTitle='Death Rate', title='Death Rate per Month')"
   ]
  },
  {
   "cell_type": "markdown",
   "metadata": {
    "dc": {
     "key": "518e95acc5"
    },
    "deletable": false,
    "editable": false,
    "run_control": {
     "frozen": true
    },
    "tags": [
     "context"
    ]
   },
   "source": [
    "## 6. The effect of handwashing highlighted\n",
    "<p>Starting from the summer of 1847 the proportion of deaths is drastically reduced and, yes, this was when Semmelweis made handwashing obligatory. </p>\n",
    "<p>The effect of handwashing is made even more clear if we highlight this in the graph.</p>"
   ]
  },
  {
   "cell_type": "code",
   "execution_count": 37,
   "metadata": {
    "ExecuteTime": {
     "end_time": "2019-07-28T15:30:47.659010Z",
     "start_time": "2019-07-28T15:30:47.656929Z"
    },
    "dc": {
     "key": "518e95acc5"
    },
    "tags": [
     "sample_code"
    ]
   },
   "outputs": [
    {
     "data": {
      "image/png": "[encoded data removed]",
      "text/plain": [
       "<Figure size 432x288 with 1 Axes>"
      ]
     },
     "metadata": {
      "needs_background": "light"
     },
     "output_type": "display_data"
    }
   ],
   "source": [
    "# Date when handwashing was made mandatory\n",
    "\n",
    "# Split monthly into before and after handwashing_start\n",
    "\n",
    "monthly_before = monthly.loc[monthly['date']<'1847-06-01']\n",
    "monthly_after = monthly.loc[monthly['date']>='1847-06-01']\n",
    "\n",
    "# Plot monthly proportion of deaths before and after handwashing\n",
    "# ... YOUR CODE FOR TASK 6 ...\n",
    "before = monthly_before['proportion'].mean()\n",
    "after = monthly_after['proportion'].mean()\n",
    "\n",
    "plt.bar('before', before)\n",
    "plt.bar('after', after)\n",
    "\n",
    "plt.show()"
   ]
  },
  {
   "cell_type": "markdown",
   "metadata": {
    "dc": {
     "key": "586a9f9803"
    },
    "deletable": false,
    "editable": false,
    "run_control": {
     "frozen": true
    },
    "tags": [
     "context"
    ]
   },
   "source": [
    "## 7. More handwashing, fewer deaths?\n",
    "<p>Again, the graph shows that handwashing had a huge effect. How much did it reduce the monthly proportion of deaths on average?</p>"
   ]
  },
  {
   "cell_type": "code",
   "execution_count": 50,
   "metadata": {
    "ExecuteTime": {
     "end_time": "2019-07-28T15:30:47.663923Z",
     "start_time": "2019-07-28T15:30:47.661599Z"
    },
    "dc": {
     "key": "586a9f9803"
    },
    "tags": [
     "sample_code"
    ]
   },
   "outputs": [
    {
     "name": "stdout",
     "output_type": "stream",
     "text": [
      "0.0839566075118334\n",
      "Percentage of reduction after handwashing=  79.92062961519258 %\n"
     ]
    }
   ],
   "source": [
    "# Difference in mean monthly proportion of deaths due to handwashing\n",
    "\n",
    "\n",
    "\n",
    "reduction = before - after\n",
    "print(reduction)\n",
    "down = reduction*100/before\n",
    "print('Percentage of reduction after handwashing= ', down, '%')"
   ]
  },
  {
   "cell_type": "markdown",
   "metadata": {
    "dc": {
     "key": "d8ff65292a"
    },
    "deletable": false,
    "editable": false,
    "run_control": {
     "frozen": true
    },
    "tags": [
     "context"
    ]
   },
   "source": [
    "## 8. A Bootstrap analysis of Semmelweis handwashing data\n",
    "<p>It reduced the proportion of deaths by around 8 percentage points! From 10% on average to just 2% (which is still a high number by modern standards). </p>\n",
    "<p>To get a feeling for the uncertainty around how much handwashing reduces mortalities we could look at a confidence interval (here calculated using the bootstrap method).</p>"
   ]
  },
  {
   "cell_type": "code",
   "execution_count": 46,
   "metadata": {
    "ExecuteTime": {
     "end_time": "2019-07-28T15:30:47.669967Z",
     "start_time": "2019-07-28T15:30:47.666972Z"
    },
    "dc": {
     "key": "d8ff65292a"
    },
    "tags": [
     "sample_code"
    ]
   },
   "outputs": [
    {
     "name": "stdout",
     "output_type": "stream",
     "text": [
      "[-0.10062621 -0.06688567]\n"
     ]
    }
   ],
   "source": [
    "from numpy import percentile\n",
    "\n",
    "# A bootstrap analysis of the reduction of deaths due to handwashing\n",
    "boot_mean_diff = []\n",
    "for i in range(3000):\n",
    "    boot_before = monthly_before['proportion'].sample(frac=1, replace=True)\n",
    "    boot_after = monthly_after['proportion'].sample(frac=1, replace=True)\n",
    "    boot_mean_diff.append(boot_after.mean() - boot_before.mean())\n",
    "\n",
    "# Calculating a 95% confidence interval from boot_mean_diff \n",
    "confidence_interval = percentile(boot_mean_diff, [2.5, 97.5])\n",
    "print(confidence_interval)"
   ]
  },
  {
   "cell_type": "markdown",
   "metadata": {
    "dc": {
     "key": "0645423069"
    },
    "deletable": false,
    "editable": false,
    "run_control": {
     "frozen": true
    },
    "tags": [
     "context"
    ]
   },
   "source": [
    "## 9. The fate of Dr. Semmelweis\n",
    "<p>So handwashing reduced the proportion of deaths by between 6.7 and 10 percentage points, according to a 95% confidence interval. All in all, it would seem that Semmelweis had solid evidence that handwashing was a simple but highly effective procedure that could save many lives.</p>\n",
    "<p>The tragedy is that, despite the evidence, Semmelweis' theory — that childbed fever was caused by some \"substance\" (what we today know as <em>bacteria</em>) from autopsy room corpses — was ridiculed by contemporary scientists. The medical community largely rejected his discovery and in 1849 he was forced to leave the Vienna General Hospital for good.</p>\n",
    "<p>One reason for this was that statistics and statistical arguments were uncommon in medical science in the 1800s. Semmelweis only published his data as long tables of raw data, but he didn't show any graphs nor confidence intervals. If he would have had access to the analysis we've just put together he might have been more successful in getting the Viennese doctors to wash their hands.</p>"
   ]
  },
  {
   "cell_type": "code",
   "execution_count": 9,
   "metadata": {
    "ExecuteTime": {
     "end_time": "2019-07-28T15:30:47.674552Z",
     "start_time": "2019-07-28T15:30:47.672407Z"
    },
    "dc": {
     "key": "0645423069"
    },
    "tags": [
     "sample_code"
    ]
   },
   "outputs": [],
   "source": [
    "# The data Semmelweis collected points to that:\n",
    "doctors_should_wash_their_hands = True "
   ]
  }
 ],
 "metadata": {
  "kernelspec": {
   "display_name": "Python 3",
   "language": "python",
   "name": "python3"
  },
  "language_info": {
   "codemirror_mode": {
    "name": "ipython",
    "version": 3
   },
   "file_extension": ".py",
   "mimetype": "text/x-python",
   "name": "python",
   "nbconvert_exporter": "python",
   "pygments_lexer": "ipython3",
   "version": "3.7.1"
  },
  "toc": {
   "base_numbering": 1,
   "nav_menu": {},
   "number_sections": true,
   "sideBar": true,
   "skip_h1_title": false,
   "title_cell": "Table of Contents",
   "title_sidebar": "Contents",
   "toc_cell": false,
   "toc_position": {},
   "toc_section_display": true,
   "toc_window_display": false
  },
  "varInspector": {
   "cols": {
    "lenName": 16,
    "lenType": 16,
    "lenVar": 40
   },
   "kernels_config": {
    "python": {
     "delete_cmd_postfix": "",
     "delete_cmd_prefix": "del ",
     "library": "var_list.py",
     "varRefreshCmd": "print(var_dic_list())"
    },
    "r": {
     "delete_cmd_postfix": ") ",
     "delete_cmd_prefix": "rm(",
     "library": "var_list.r",
     "varRefreshCmd": "cat(var_dic_list()) "
    }
   },
   "types_to_exclude": [
    "module",
    "function",
    "builtin_function_or_method",
    "instance",
    "_Feature"
   ],
   "window_display": false
  }
 },
 "nbformat": 4,
 "nbformat_minor": 2
}
